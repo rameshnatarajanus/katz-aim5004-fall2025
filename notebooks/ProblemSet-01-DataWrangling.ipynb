{
 "cells": [
  {
   "cell_type": "code",
   "execution_count": 1,
   "id": "1afbadd2-ed71-4f4f-aa95-02338be0a23e",
   "metadata": {},
   "outputs": [],
   "source": [
    "NAME = \"Amira Isenberg\"\n",
    "COLLABORATORS = \"\""
   ]
  },
  {
   "cell_type": "markdown",
   "id": "a4c80f6a-1909-4044-bec2-cfb5f50a3f61",
   "metadata": {},
   "source": [
    "# Instructions\n",
    "\n",
    "1. Make sure you have filled out your \"NAME\" and \"COLLABORATORS\" (if any) in the previous cell.\n",
    "\n",
    "2. You should complete all code/markdown cells that state \"YOUR CODE HERE\" or \"YOUR ANSWER HERE\". \n",
    "   \n",
    "3. Before you turn this problem in, make sure everything runs as expected. First, **restart the kernel** (in the menubar, select Kernel$\\rightarrow$Restart) and then **run all cells** (in the menubar, select Cell$\\rightarrow$Run All).\n",
    "\n",
    "4. Partial credit can be obtained if your solution approach is clear and the documented within comments in the implementation.\n",
    "\n",
    "5. You should follow good coding practices. Your code should use type hints, be robust against invalid inputs, and you should also write a few test cases to check for correctness particularly including edge cases.  \n"
   ]
  },
  {
   "cell_type": "markdown",
   "id": "c9ac0a45-dcba-4342-92cc-d6157f9c4ad8",
   "metadata": {},
   "source": [
    "## Problem 1\n",
    "\n",
    "Write a python function which computes third power of a number if the number is odd, and the square of the number if the number is even."
   ]
  },
  {
   "cell_type": "code",
   "execution_count": 2,
   "id": "8a8038a5-6603-4656-b66a-493dfc69ffa6",
   "metadata": {
    "nbgrader": {
     "cell_type": "code",
     "checksum": "ab5cc25f191920f285f301e32d8cacb6",
     "grade": false,
     "grade_id": "cell-14b79c9cb73bbf40",
     "locked": false,
     "schema_version": 3,
     "solution": true,
     "task": false
    },
    "tags": []
   },
   "outputs": [],
   "source": [
    "def parity_power(x: int) -> int:\n",
    "    if x % 2 == 0: # even\n",
    "        return x ** 2\n",
    "    else: # odd\n",
    "        return x ** 3\n",
    "    raise NotImplementedError()"
   ]
  },
  {
   "cell_type": "code",
   "execution_count": 15,
   "id": "a21b5e3f-47b2-4024-963d-703812caaeb6",
   "metadata": {},
   "outputs": [],
   "source": [
    "assert parity_power(0) == 0\n",
    "assert parity_power(1) == 1\n",
    "assert parity_power(2) == 4\n",
    "assert parity_power(3) == 27\n",
    "assert parity_power(-1) == -1"
   ]
  },
  {
   "cell_type": "markdown",
   "id": "27312f8f-0127-4ddd-b03a-16b3ec4a996d",
   "metadata": {},
   "source": [
    "## Problem 2\n",
    "\n",
    "An important part of this course is to complete an ML based project over the course of the semester.  We are going to start right now!\n",
    "\n",
    "Read the description of the project uploaded on canvas and write down 2 potential ideas for your project.  "
   ]
  },
  {
   "cell_type": "markdown",
   "id": "909ed13f-bbaa-4c06-804f-51d03ceb4047",
   "metadata": {
    "nbgrader": {
     "cell_type": "markdown",
     "checksum": "94c245d935d153aae4844ae075062962",
     "grade": true,
     "grade_id": "cell-e119bc622f6ff41b",
     "locked": false,
     "points": 10,
     "schema_version": 3,
     "solution": true,
     "task": false
    },
    "tags": []
   },
   "source": [
    "I am writing my honors thesis on Naive Bayes Classifiers, so I would like to be able to use that model in this project.\n",
    "Potential ideas:\n",
    "1. Using a medical dataset, I can design a model that predicts the likelihood of specific diagnoses (for example, the dataset located at https://www.kaggle.com/datasets/joebeachcapital/cirrhosis-patient-survival-prediction).\n",
    "2. Using a dataset containing housing market data, predict the price category of new house/apartments being sold. (for example, the dataset located at: https://www.kaggle.com/dahttps://www.kaggle.com/datasets/nelgiriyewithana/new-york-housing-markettasets/nelgiriyewithana/new-york-housing-market)."
   ]
  },
  {
   "cell_type": "markdown",
   "id": "b2e263c7-fb99-42f6-aa10-337f286cb9a7",
   "metadata": {},
   "source": [
    "## Problem 3\n",
    "\n",
    "This problem will test some of your programming skills and data wrangling ability.  \n",
    "\n",
    "We will start with a dataset from 'https://github.com/JeffSackmann/tennis_atp' which covers information on Tennis matches from the past few decades.  \n",
    "\n",
    "This dataset is provided by Jeff Sackman.\n",
    "\n",
    "Write a function *download_data_by_year* which takes the year as an input and returns a pandas dataframe with the data from the file of the form `atp_matches_{year}.csv`.  Implement a cache so that we do not download the data if it is already in the cache. \n",
    "\n",
    "**Hint**: The url you need to use to access the files in github is https://raw.githubusercontent.com/JeffSackmann/tennis_atp/master/atp_matches_{year}.csv"
   ]
  },
  {
   "cell_type": "code",
   "execution_count": 4,
   "id": "5f4c4314-0000-4ea7-9ebc-0156b6a3ad5a",
   "metadata": {
    "nbgrader": {
     "cell_type": "code",
     "checksum": "f4768215f068a6e9130081f9cd05e620",
     "grade": false,
     "grade_id": "cell-9954e13bab216e43",
     "locked": false,
     "schema_version": 3,
     "solution": true,
     "task": false
    },
    "tags": []
   },
   "outputs": [],
   "source": [
    "import pandas as pd\n",
    "import requests \n",
    "import os\n",
    "\n",
    "# with year as input, return pandas dataframe with the data from the \n",
    "# file of the form atp_matches_{year}.csv\n",
    "def download_data_by_year(year: int) -> pd.DataFrame:\n",
    "    # check if data is already in cache\n",
    "    filePath = f\"atp_matches_{year}.csv\"\n",
    "\n",
    "    # if cached, read from cache\n",
    "    if os.path.exists(filePath):\n",
    "        return pd.read_csv(filePath)\n",
    "    else: # otherwise, download from the URL + save to cache\n",
    "        url = f'https://raw.githubusercontent.com/JeffSackmann/tennis_atp/master/atp_matches_{year}.csv'\n",
    "        response = requests.get(url)\n",
    "\n",
    "        # if the request succeeds:\n",
    "        if response.status_code == 200:\n",
    "            # save data to cache\n",
    "            with open(filePath, 'w', encoding='utf=8') as file:\n",
    "                file.write(response.text)\n",
    "                \n",
    "            # read data into dataframe and return dataframe\n",
    "            return pd.read_csv(filePath)\n",
    "        else:\n",
    "            # if request is not successful, raise error message\n",
    "            raise NotImplementedError(f\"Failed to download data for year: {year}\")\n",
    "            \n",
    "    raise NotImplementedError()"
   ]
  },
  {
   "cell_type": "code",
   "execution_count": 16,
   "id": "af2ff824-0606-42d6-a60e-4af7627d21d5",
   "metadata": {},
   "outputs": [
    {
     "name": "stdout",
     "output_type": "stream",
     "text": [
      "Error for year: 1967\n"
     ]
    }
   ],
   "source": [
    "df1 = download_data_by_year(2017)\n",
    "assert df1.shape == (2911, 49)\n",
    "\n",
    "df2 = download_data_by_year(1968)\n",
    "assert df2.shape == (4377, 49)\n",
    "\n",
    "df3 = download_data_by_year(2023)\n",
    "assert df3.shape == (2986, 49)\n",
    "\n",
    "year = 1967\n",
    "try:\n",
    "    df4 = download_data_by_year(year) \n",
    "except Exception as e:\n",
    "    print(f\"Error for year: {year}\")"
   ]
  },
  {
   "cell_type": "markdown",
   "id": "c41f3d14-c5a7-4476-8bf9-b7f9ac6a331f",
   "metadata": {},
   "source": [
    "## Problem 4\n",
    "Download the data for years 2000-2020 (inclusive).  Compute the average number of matches played per year on each surface for each month. \n",
    "\n",
    "Return your solution as a dictionary where the key is the match, month pair as a tuple and the value is the average.\n",
    "\n",
    "**Hint**: You may have a case where no matches were played on a given surface in a month.  This should factor into your calculation as a zero."
   ]
  },
  {
   "cell_type": "code",
   "execution_count": 17,
   "id": "06a6a7e7-a10a-404b-ba7f-1fba0f66b8e2",
   "metadata": {
    "nbgrader": {
     "cell_type": "code",
     "checksum": "46b84cd6fba9d6ec9c4f1a53054236cb",
     "grade": false,
     "grade_id": "cell-be49d8719f86849f",
     "locked": false,
     "schema_version": 3,
     "solution": true,
     "task": false
    },
    "tags": []
   },
   "outputs": [],
   "source": [
    "import pandas as pd\n",
    "from collections import defaultdict\n",
    "from datetime import datetime\n",
    "from typing import Dict, Tuple\n",
    "\n",
    "def get_statistics() -> Dict[Tuple[str, int], float]:\n",
    "    # download data for years 2000-2021\n",
    "    data_frames = [download_data_by_year(year) for year in range(2000,2021)]\n",
    "\n",
    "    # concatenate data frames for all years into single date frame\n",
    "    all_data = pd.concat(data_frames, ignore_index=True)\n",
    "\n",
    "    # convert 'tourney_date' column to datetime\n",
    "    all_data['tourney_date'] = pd.to_datetime(all_data['tourney_date'], format=\"%Y%m%d\")\n",
    "\n",
    "    # create dictionary to store count of matches for each surface + month\n",
    "    # using defaultdict so that a default value can be provided for any month with\n",
    "    # no matches played\n",
    "    surface_month_count = defaultdict(int)\n",
    "\n",
    "    # iterate through each row + update count\n",
    "    for index, row in all_data.iterrows():\n",
    "        surface = row['surface']\n",
    "        month = row['tourney_date'].month\n",
    "        surface_month_count[(surface,month)] += 1\n",
    "\n",
    "    # create dictionary to store avg number of matches for each surface + month\n",
    "    surface_month_avg = {}\n",
    "\n",
    "    # calculate average:\n",
    "    for key, value in surface_month_count.items():\n",
    "        surface_month_avg[key] = value / len(data_frames)\n",
    "\n",
    "    return surface_month_avg\n",
    "    \n",
    "    raise NotImplementedError()"
   ]
  },
  {
   "cell_type": "code",
   "execution_count": 18,
   "id": "5d362931-8dd7-4ce7-8cc3-524f75805404",
   "metadata": {},
   "outputs": [],
   "source": [
    "from numpy.testing import assert_allclose\n",
    "res = get_statistics()\n",
    "assert_allclose(res[('Carpet', 1)], 9)\n",
    "assert_allclose(res[('Carpet', 12)], 0.19047619)\n",
    "assert_allclose(res[('Grass', 6)], 247)\n",
    "assert_allclose(res[('Hard', 3)], 216.428571)"
   ]
  },
  {
   "cell_type": "markdown",
   "id": "6fbf15ec-000f-448a-82c8-da1e4e1f8db5",
   "metadata": {
    "editable": false,
    "nbgrader": {
     "cell_type": "markdown",
     "checksum": "2346de55eb8baa31e60af8b854d5f573",
     "grade": false,
     "grade_id": "cell-be2dd85a6878fd5d",
     "locked": true,
     "points": 10,
     "schema_version": 3,
     "solution": false,
     "task": true
    },
    "tags": []
   },
   "source": [
    "# Problem 5\n",
    "\n",
    "Determine the BEST 5 players of all time.  There is not a definative answer here, this is your chance to show your creativity.  Please also explain how you arrived at your rankings.  You are free to use web resources to support your answer, but you MUST cite them as you use them.\n",
    "\n",
    "You should answer questions like:\n",
    "\n",
    "1. How did you define BEST?\n",
    "2. Where do you believe your analysis is flawed?\n",
    "3. What could you do to improve your analysis?"
   ]
  },
  {
   "cell_type": "code",
   "execution_count": 11,
   "id": "5f96d689-a6c5-4897-8541-10fced5c53db",
   "metadata": {},
   "outputs": [],
   "source": [
    "from collections import defaultdict\n",
    "from typing import List, Dict\n",
    "\n",
    "# calculate player statistics - specifically the number of Grand Slam titles\n",
    "def calculate_player_statistics(data_frames: List[pd.DataFrame]) -> Dict[str, Dict[str, int]]:\n",
    "    # dictionary to store player statistics\n",
    "    player_statistics = defaultdict(dict)\n",
    "\n",
    "    # iterate through each dataframe\n",
    "    for df in data_frames:\n",
    "        for index, row in df.iterrows():\n",
    "            winner_name = row['winner_name']\n",
    "            \n",
    "            # check if the tournament is a Grand Slam\n",
    "            if row['tourney_level'] == 'G':\n",
    "                # update Grand Slam titles for the winner\n",
    "                player_statistics[winner_name]['grand_slam_titles'] = player_statistics[winner_name].get('grand_slam_titles', 0) + 1\n",
    "\n",
    "    return player_statistics\n",
    "\n",
    "def determine_best_players() -> List[str]:\n",
    "    # download data for years 1968-2023\n",
    "    data_frames = [download_data_by_year(year) for year in range(1968, 2024)]\n",
    "\n",
    "    # calculate player statistics - Grand Slam titles\n",
    "    player_statistics = calculate_player_statistics(data_frames)\n",
    "\n",
    "    # sort players based on Grand Slam title count\n",
    "    best_players = sorted(player_statistics.items(), key=lambda x: x[1].get('grand_slam_titles', 0), reverse=True)[:5]\n",
    "    \n",
    "    # extract player names\n",
    "    best_player_names = [player[0] for player in best_players]\n",
    "    \n",
    "    return best_player_names\n",
    "    raise NotImplementedError()"
   ]
  },
  {
   "cell_type": "code",
   "execution_count": 12,
   "id": "57e0f75c-076e-4485-af46-2bff424dddc2",
   "metadata": {},
   "outputs": [
    {
     "name": "stdout",
     "output_type": "stream",
     "text": [
      "Best Players Result:\n",
      "['Roger Federer', 'Novak Djokovic', 'Rafael Nadal', 'Jimmy Connors', 'Andre Agassi']\n"
     ]
    }
   ],
   "source": [
    "try:\n",
    "    best_players_result = determine_best_players()\n",
    "    print(\"Best Players Result:\")\n",
    "    print(best_players_result)\n",
    "except Exception as e:\n",
    "    print(f\"Error: {e}\")"
   ]
  },
  {
   "cell_type": "markdown",
   "id": "8e23a18b-b05d-4114-9103-be5a4541deb4",
   "metadata": {},
   "source": [
    "I defined the best player by calculating the number of Grand Slam Titles for that player. However, this analysis is flawed when it comes to newer players who have not had a chance to compete in as many Grand Slam titles, and doesn't take into account player style and other subjective factors. To improve my analysis, I could add to the calculations the number of overall titles, and especially the win percentages to make a more nuanced analysis. "
   ]
  }
 ],
 "metadata": {
  "kernelspec": {
   "display_name": "Python 3 (ipykernel)",
   "language": "python",
   "name": "python3"
  },
  "language_info": {
   "codemirror_mode": {
    "name": "ipython",
    "version": 3
   },
   "file_extension": ".py",
   "mimetype": "text/x-python",
   "name": "python",
   "nbconvert_exporter": "python",
   "pygments_lexer": "ipython3",
   "version": "3.10.10"
  }
 },
 "nbformat": 4,
 "nbformat_minor": 5
}
