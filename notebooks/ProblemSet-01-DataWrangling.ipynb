{
 "cells": [
  {
   "cell_type": "code",
   "execution_count": 1,
   "id": "1afbadd2-ed71-4f4f-aa95-02338be0a23e",
   "metadata": {},
   "outputs": [],
   "source": [
    "NAME = \"Gila Linzer\"\n",
    "COLLABORATORS = \"\""
   ]
  },
  {
   "cell_type": "markdown",
   "id": "a4c80f6a-1909-4044-bec2-cfb5f50a3f61",
   "metadata": {},
   "source": [
    "# Instructions\n",
    "\n",
    "1. Make sure you have filled out your \"NAME\" and \"COLLABORATORS\" (if any) in the previous cell.\n",
    "\n",
    "2. You should complete all code/markdown cells that state \"YOUR CODE HERE\" or \"YOUR ANSWER HERE\". \n",
    "   \n",
    "3. Before you turn this problem in, make sure everything runs as expected. First, **restart the kernel** (in the menubar, select Kernel$\\rightarrow$Restart) and then **run all cells** (in the menubar, select Cell$\\rightarrow$Run All).\n",
    "\n",
    "4. Partial credit can be obtained if your solution approach is clear and the documented within comments in the implementation.\n",
    "\n",
    "5. You should follow good coding practices. Your code should use type hints, be robust against invalid inputs, and you should also write a few test cases to check for correctness particularly including edge cases.  \n"
   ]
  },
  {
   "cell_type": "markdown",
   "id": "c9ac0a45-dcba-4342-92cc-d6157f9c4ad8",
   "metadata": {},
   "source": [
    "## Problem 1\n",
    "\n",
    "Write a python function which computes third power of a number if the number is odd, and the square of the number if the number is even."
   ]
  },
  {
   "cell_type": "code",
   "execution_count": 7,
   "id": "8a8038a5-6603-4656-b66a-493dfc69ffa6",
   "metadata": {
    "nbgrader": {
     "cell_type": "code",
     "checksum": "ab5cc25f191920f285f301e32d8cacb6",
     "grade": false,
     "grade_id": "cell-14b79c9cb73bbf40",
     "locked": false,
     "schema_version": 3,
     "solution": true,
     "task": false
    },
    "tags": []
   },
   "outputs": [],
   "source": [
    "def parity_power(x: int) -> int:\n",
    "    res = None\n",
    "    if x%2==1:\n",
    "        res = x**3 \n",
    "    else:\n",
    "        res = x**2\n",
    "    return res\n",
    "        "
   ]
  },
  {
   "cell_type": "code",
   "execution_count": 8,
   "id": "a21b5e3f-47b2-4024-963d-703812caaeb6",
   "metadata": {},
   "outputs": [],
   "source": [
    "# provide test cases\n",
    "\n",
    "# YOUR CODE HERE\n",
    "assert parity_power(1) == 1\n",
    "assert parity_power(2) == 4\n",
    "assert parity_power(3) == 27"
   ]
  },
  {
   "cell_type": "markdown",
   "id": "27312f8f-0127-4ddd-b03a-16b3ec4a996d",
   "metadata": {},
   "source": [
    "## Problem 2\n",
    "\n",
    "An important part of this course is to complete an ML based project over the course of the semester.  We are going to start right now!\n",
    "\n",
    "Read the description of the project uploaded on canvas and write down 2 potential ideas for your project.  "
   ]
  },
  {
   "cell_type": "markdown",
   "id": "909ed13f-bbaa-4c06-804f-51d03ceb4047",
   "metadata": {
    "nbgrader": {
     "cell_type": "markdown",
     "checksum": "94c245d935d153aae4844ae075062962",
     "grade": true,
     "grade_id": "cell-e119bc622f6ff41b",
     "locked": false,
     "points": 10,
     "schema_version": 3,
     "solution": true,
     "task": false
    },
    "tags": []
   },
   "source": [
    "YOUR ANSWER HERE"
   ]
  },
  {
   "cell_type": "markdown",
   "id": "b2e263c7-fb99-42f6-aa10-337f286cb9a7",
   "metadata": {},
   "source": [
    "## Problem 3\n",
    "\n",
    "This problem will test some of your programming skills and data wrangling ability.  \n",
    "\n",
    "We will start with a dataset from 'https://github.com/JeffSackmann/tennis_atp' which covers information on Tennis matches from the past few decades.  \n",
    "\n",
    "This dataset is provided by Jeff Sackman.\n",
    "\n",
    "Write a function *download_data_by_year* which takes the year as an input and returns a pandas dataframe with the data from the file of the form `atp_matches_{year}.csv`.  Implement a cache so that we do not download the data if it is already in the cache. \n",
    "\n",
    "**Hint**: The url you need to use to access the files in github is https://raw.githubusercontent.com/JeffSackmann/tennis_atp/master/atp_matches_{year}.csv"
   ]
  },
  {
   "cell_type": "code",
<<<<<<< HEAD
<<<<<<< HEAD
   "execution_count": 2,
=======
   "execution_count": 12,
>>>>>>> b6fc5fd (first commit)
=======
   "execution_count": 12,
>>>>>>> b6fc5fd (first commit)
   "id": "5f4c4314-0000-4ea7-9ebc-0156b6a3ad5a",
   "metadata": {
    "nbgrader": {
     "cell_type": "code",
     "checksum": "f4768215f068a6e9130081f9cd05e620",
     "grade": false,
     "grade_id": "cell-9954e13bab216e43",
     "locked": false,
     "schema_version": 3,
     "solution": true,
     "task": false
    },
    "tags": []
   },
   "outputs": [],
   "source": [
    "import pandas as pd\n",
    "# Global cache dictionary\n",
    "cache = {}\n",
    "def download_data_by_year(year: int) -> pd.DataFrame:\n",
    "    global cache \n",
    "    if year in cache:\n",
    "        return cache[year]\n",
    "    else:\n",
    "        \n",
<<<<<<< HEAD
<<<<<<< HEAD
    "        df = pd.read_csv(f'../../tennis_atp/atp_matches_{year}.csv')\n",
=======
    "        df = pd.read_csv(f'./tennis_atp/atp_matches_{year}.csv')\n",
>>>>>>> b6fc5fd (first commit)
=======
    "        df = pd.read_csv(f'./tennis_atp/atp_matches_{year}.csv')\n",
>>>>>>> b6fc5fd (first commit)
    "        cache[year] = df\n",
    "        return df "
   ]
  },
  {
   "cell_type": "code",
<<<<<<< HEAD
<<<<<<< HEAD
   "execution_count": 3,
=======
   "execution_count": 13,
>>>>>>> b6fc5fd (first commit)
=======
   "execution_count": 13,
>>>>>>> b6fc5fd (first commit)
   "id": "f4dd82d0-bda4-4e8d-8cff-7edd708d82f9",
   "metadata": {
    "editable": false,
    "nbgrader": {
     "cell_type": "code",
     "checksum": "a6f57484d4832b5dce9c1a611f022b68",
     "grade": true,
     "grade_id": "cell-bcd973ba4d369a21",
     "locked": true,
     "points": 10,
     "schema_version": 3,
     "solution": false,
     "task": false
    },
    "tags": []
   },
   "outputs": [],
   "source": [
    "df = download_data_by_year(2017)\n",
    "assert df.shape == (2911, 49)"
   ]
  },
  {
   "cell_type": "markdown",
   "id": "c41f3d14-c5a7-4476-8bf9-b7f9ac6a331f",
   "metadata": {},
   "source": [
    "## Problem 4\n",
    "Download the data for years 2000-2020 (inclusive).  Compute the average number of matches played per year on each surface for each month. \n",
    "\n",
    "Return your solution as a dictionary where the key is the (surface, month) pair as a tuple and the value is the average.\n",
    "\n",
    "**Hint**: You may have a case where no matches were played on a given surface in a month.  This should factor into your calculation as a zero."
   ]
  },
  {
   "cell_type": "code",
   "execution_count": 4,
   "id": "06a6a7e7-a10a-404b-ba7f-1fba0f66b8e2",
   "metadata": {
    "nbgrader": {
     "cell_type": "code",
     "checksum": "46b84cd6fba9d6ec9c4f1a53054236cb",
     "grade": false,
     "grade_id": "cell-be49d8719f86849f",
     "locked": false,
     "schema_version": 3,
     "solution": true,
     "task": false
    },
    "tags": []
   },
   "outputs": [],
   "source": [
    "\n",
    "def get_statistics():\n",
<<<<<<< HEAD
<<<<<<< HEAD
    "    # (surface,month)[average]\n",
    "    data = {}\n",
    "    for i in range(2000,2021):\n",
    "        df = download_data_by_year(i)\n",
    "        for index, row in df.iterrows():\n",
    "            month = str(row['tourney_date'])[4:6]\n",
    "            surface = row['surface']\n",
    "            tup = (surface,int(month))\n",
    "            if tup in data:\n",
    "                data[tup] +=1\n",
    "            else:\n",
    "                data[tup] = 1\n",
    "    # now divide all the values by 20 because there were 20 years of data to get the average \n",
    "    for key, value in data.items():\n",
    "        data[key] = value//20\n",
    "    return data\n"
=======
=======
>>>>>>> b6fc5fd (first commit)
    "    years = []\n",
    "    for i in range(2000,2021):\n",
    "        df = download_data_by_year(i)\n",
    "        \n",
    "    raise NotImplementedError()"
>>>>>>> b6fc5fd (first commit)
   ]
  },
  {
   "cell_type": "code",
   "execution_count": 5,
   "id": "2ac981a8-d8e7-4d5b-b667-1f43601fdb62",
   "metadata": {
    "editable": false,
    "nbgrader": {
     "cell_type": "code",
     "checksum": "b08bbc9dbfac51532465a9452fc3dcab",
     "grade": true,
     "grade_id": "cell-8cb61f127b11a709",
     "locked": true,
     "points": 10,
     "schema_version": 3,
     "solution": false,
     "task": false
    },
    "tags": []
   },
   "outputs": [],
   "source": [
    "from numpy.testing import assert_allclose\n",
    "res = get_statistics()\n",
    "assert_allclose(res[('Carpet', 1)], 9)"
   ]
  },
  {
   "cell_type": "markdown",
   "id": "6fbf15ec-000f-448a-82c8-da1e4e1f8db5",
   "metadata": {
    "editable": false,
    "nbgrader": {
     "cell_type": "markdown",
     "checksum": "2346de55eb8baa31e60af8b854d5f573",
     "grade": false,
     "grade_id": "cell-be2dd85a6878fd5d",
     "locked": true,
     "points": 10,
     "schema_version": 3,
     "solution": false,
     "task": true
    },
    "tags": []
   },
   "source": [
    "# Problem 5\n",
    "\n",
    "Determine the BEST 5 players of all time.  There is not a definative answer here, this is your chance to show your creativity.  Please also explain how you arrived at your rankings.  You are free to use web resources to support your answer, but you MUST cite them as you use them.\n",
    "\n",
    "You should answer questions like:\n",
    "\n",
    "1. How did you define BEST?\n",
    "2. Where do you believe your analysis is flawed?\n",
    "3. What could you do to improve your analysis?"
   ]
  },
  {
   "cell_type": "code",
   "execution_count": 16,
   "id": "5f96d689-a6c5-4897-8541-10fced5c53db",
   "metadata": {},
   "outputs": [
    {
     "name": "stdout",
     "output_type": "stream",
     "text": [
      "Hi\n",
      "The best tennis player is Jimmy Connors\n"
     ]
    }
   ],
   "source": [
    "\n",
    "def get_best_player():\n",
    "    print(\"Hi\")\n",
    "    # make a dictionary of player id's and how many times they were listed as having won the match \n",
    "    player_wins = {}\n",
    "    for i in range(1968,2024):\n",
    "        df = download_data_by_year(i)\n",
    "        for index, row in df.iterrows():\n",
    "            winner = row['winner_id']\n",
    "            if winner not in player_wins:\n",
    "                player_wins[winner] = 1\n",
    "            else:\n",
    "                player_wins[winner]+=1\n",
    "    best_player_id = None\n",
    "    most_wins = 0\n",
    "    # iterate through the dictionary and find the most wins for a player \n",
    "    for player,wins in player_wins.items():\n",
    "        if wins > most_wins:\n",
    "            most_wins = wins\n",
    "            best_player_id = player\n",
    "    # now that we have the id of the best player, look up the player's name in the list of players \n",
    "    df = pd.read_csv(f'../../tennis_atp/atp_players.csv')\n",
    "    best_player_row = df.loc[df['player_id'] == best_player_id]\n",
    "    first_name = best_player_row['name_first'].iloc[0]\n",
    "    last_name = best_player_row['name_last'].iloc[0]\n",
    "    print(f'The best tennis player is {first_name} {last_name}')\n",
    "\n",
    "get_best_player()\n",
    "                \n",
    "            \n",
    "        \n",
    "\n",
    "\n",
    "\n",
    "\n",
    "\n"
   ]
  },
  {
   "cell_type": "markdown",
   "id": "8e23a18b-b05d-4114-9103-be5a4541deb4",
   "metadata": {},
   "source": [
    "I calculated the best player based on who has won the most games. \n",
    "This might be a flawed approach because it is possible that a player played many games against a rookie player and this doesn't mean that they are really the best player since they would very easily be beaten by a more advanced player. \n",
    "A more advanced analysis might take into account other statistics of the game other than just the number of wins. "
   ]
  }
 ],
 "metadata": {
  "kernelspec": {
   "display_name": "Python 3 (ipykernel)",
   "language": "python",
   "name": "python3"
  },
  "language_info": {
   "codemirror_mode": {
    "name": "ipython",
    "version": 3
   },
   "file_extension": ".py",
   "mimetype": "text/x-python",
   "name": "python",
   "nbconvert_exporter": "python",
   "pygments_lexer": "ipython3",
   "version": "3.10.10"
  }
 },
 "nbformat": 4,
 "nbformat_minor": 5
}
